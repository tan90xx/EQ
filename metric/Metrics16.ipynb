{
 "cells": [
  {
   "attachments": {
    "image.png": {
     "image/png": "[encoded data removed]"
    }
   },
   "cell_type": "markdown",
   "id": "c885d058",
   "metadata": {},
   "source": [
    "## 16种评估指标\n",
    "![image.png](attachment:image.png)"
   ]
  },
  {
   "cell_type": "code",
   "execution_count": 1,
   "id": "54a3c0e5",
   "metadata": {},
   "outputs": [],
   "source": [
    "import numpy as np\n",
    "import librosa\n",
    "\n",
    "import speechmetrics as sm\n",
    "import torch\n",
    "from torchmetrics import SignalNoiseRatio\n",
    "from torchmetrics import ScaleInvariantSignalNoiseRatio\n",
    "from torchmetrics.audio import SignalDistortionRatio\n",
    "from torchmetrics import ScaleInvariantSignalDistortionRatio\n",
    "from torchmetrics.audio.pesq import PerceptualEvaluationSpeechQuality\n",
    "import pysepm"
   ]
  },
  {
   "cell_type": "code",
   "execution_count": 2,
   "id": "4a3c0365",
   "metadata": {
    "collapsed": true
   },
   "outputs": [
    {
     "name": "stdout",
     "output_type": "stream",
     "text": [
      "Loaded  speechmetrics.absolute.mosnet\n",
      "Loaded  speechmetrics.absolute.srmr\n"
     ]
    },
    {
     "name": "stderr",
     "output_type": "stream",
     "text": [
      "D:\\tools\\conda\\envs\\audiosr\\lib\\site-packages\\torchmetrics\\utilities\\prints.py:36: UserWarning: Torchmetrics v0.9 introduced a new argument class property called `full_state_update` that has\n",
      "                not been set for this class (ScaleInvariantSignalNoiseRatio). The property determines if `update` by\n",
      "                default needs access to the full metric state. If this is not the case, significant speedups can be\n",
      "                achieved and we recommend setting this to `False`.\n",
      "                We provide an checking function\n",
      "                `from torchmetrics.utilities import check_forward_full_state_property`\n",
      "                that can be used to check if the `full_state_update=True` (old and potential slower behaviour,\n",
      "                default for now) or if `full_state_update=False` can be used safely.\n",
      "                \n",
      "  warnings.warn(*args, **kwargs)\n",
      "D:\\tools\\conda\\envs\\audiosr\\lib\\site-packages\\torchmetrics\\utilities\\prints.py:36: UserWarning: Torchmetrics v0.9 introduced a new argument class property called `full_state_update` that has\n",
      "                not been set for this class (ScaleInvariantSignalDistortionRatio). The property determines if `update` by\n",
      "                default needs access to the full metric state. If this is not the case, significant speedups can be\n",
      "                achieved and we recommend setting this to `False`.\n",
      "                We provide an checking function\n",
      "                `from torchmetrics.utilities import check_forward_full_state_property`\n",
      "                that can be used to check if the `full_state_update=True` (old and potential slower behaviour,\n",
      "                default for now) or if `full_state_update=False` can be used safely.\n",
      "                \n",
      "  warnings.warn(*args, **kwargs)\n"
     ]
    }
   ],
   "source": [
    "window =  np.inf\n",
    "EPS = 1e-12\n",
    "mosnet = sm.load(['absolute'],window)\n",
    "\n",
    "snr = SignalNoiseRatio()\n",
    "si_snr = ScaleInvariantSignalNoiseRatio()\n",
    "sdr = SignalDistortionRatio()\n",
    "si_sdr = ScaleInvariantSignalDistortionRatio()\n",
    "nb_pesq = PerceptualEvaluationSpeechQuality(8000, 'nb')\n",
    "wb_pesq = PerceptualEvaluationSpeechQuality(16000, 'wb')\n",
    "\n",
    "seg_snr = pysepm.SNRseg\n",
    "stoi = pysepm.stoi\n",
    "\n",
    "import math\n",
    "def psnr(original, noise):\n",
    "    mse = np.mean((original - noise) ** 2) \n",
    "    psnr = 10 * math.log10(1 / mse) \n",
    "    return psnr\n",
    "\n",
    "# F domain from https://github.com/haoheliu/voicefixer_main/blob/main/evaluation_proc/metrics.py\n",
    "def wav_to_spectrogram(wav, rate=44100):\n",
    "    hop_length = rate//100\n",
    "    n_fft = 2048\n",
    "    f = np.abs(librosa.stft(wav, hop_length=hop_length, n_fft=n_fft))\n",
    "    f = np.transpose(f,(1,0))\n",
    "    f = torch.tensor(f[None,None,...])\n",
    "    return f\n",
    "\n",
    "def energy_unify(estimated, original):\n",
    "    \n",
    "    target = pow_norm(estimated, original) * original\n",
    "    target /= pow_p_norm(original) + EPS\n",
    "    return estimated, target\n",
    "\n",
    "def pow_norm(s1, s2):\n",
    "    shape = list(s1.size())\n",
    "    dimension = []\n",
    "    for i in range(len(shape)):\n",
    "        if(i == 0 or i == 1):continue\n",
    "        dimension.append(i)\n",
    "    return torch.sum(s1 * s2, dim=dimension, keepdim=True)\n",
    "\n",
    "def pow_p_norm(signal):\n",
    "    \"\"\"Compute 2 Norm\"\"\"\n",
    "    shape = list(signal.size())\n",
    "    dimension = []\n",
    "    for i in range(len(shape)):\n",
    "        if(i == 0):continue\n",
    "        dimension.append(i)\n",
    "    return torch.pow(torch.norm(signal, p=2, dim=dimension, keepdim=True), 2)\n",
    "\n",
    "def si_spnr(est, target):\n",
    "    # in log scale\n",
    "    output, target = energy_unify(est, target)\n",
    "    noise = output - target\n",
    "    # print(pow_p_norm(target) , pow_p_norm(noise), pow_p_norm(target) / (pow_p_norm(noise) + EPS))\n",
    "    sp_loss = 10 * torch.log10((pow_p_norm(target) / (pow_p_norm(noise) + EPS) + EPS))\n",
    "    return (torch.sum(sp_loss) / sp_loss.size()[0])\n",
    "\n",
    "def lsd(est, target):# also LSD-LF,LSD-HF\n",
    "    # in non-log scale\n",
    "    lsd = torch.log10((target**2/((est + EPS)**2)) + EPS)**2\n",
    "    lsd = torch.mean(torch.mean(lsd,dim=3)**0.5,dim=2)\n",
    "    return lsd\n",
    "\n",
    "def rms_lsd(est, target):\n",
    "    # in non-log scale\n",
    "    lsd1 = 10*torch.log10(est**2 + EPS)\n",
    "    lsd2 = 10*torch.log10(target**2 + EPS)\n",
    "    lsd = torch.mean(torch.mean((lsd1-lsd2)**2,dim=3)**0.5,dim=2)\n",
    "    return lsd\n",
    "\n",
    "from skimage.metrics import structural_similarity\n",
    "def ssim(est, target):\n",
    "    if(\"cuda\" in str(target.device)):\n",
    "        target, output = target.detach().cpu().numpy(), est.detach().cpu().numpy()\n",
    "    else:\n",
    "        target, output = target.numpy(), est.numpy()\n",
    "    res = np.zeros([output.shape[0],output.shape[1]])\n",
    "    for bs in range(output.shape[0]):\n",
    "        for c in range(output.shape[1]):\n",
    "            res[bs,c] = structural_similarity(output[bs,c,...],target[bs,c,...],win_size=7)\n",
    "    return res"
   ]
  },
  {
   "cell_type": "code",
   "execution_count": 3,
   "id": "41697b94",
   "metadata": {},
   "outputs": [],
   "source": [
    "def get_scores(target,preds,fs=16000):\n",
    "    if target.size == 0: return False\n",
    "    preds_ts = torch.tensor(preds)\n",
    "    target_ts = torch.tensor(target)\n",
    "    preds_sp = wav_to_spectrogram(preds, rate=fs)\n",
    "    target_sp = wav_to_spectrogram(target, rate=fs)\n",
    "    print(\"snr:\",float(snr(preds_ts.clone(),target_ts.clone())))\n",
    "    print(\"psnr:\",float(psnr(preds,target)))\n",
    "    print(\"segsnr:\",float(seg_snr(preds,target,fs=fs)))\n",
    "    print(\"sisnr:\",float(si_snr(preds_ts.clone(),target_ts.clone())))\n",
    "    print(\"sipsnr:\",float(si_spnr(preds_sp.clone(), target_sp.clone())))\n",
    "    print(\"sdr:\",float(sdr(preds_ts.clone(),target_ts.clone())))\n",
    "    print(\"sisdr:\",float(si_sdr(preds_ts.clone(),target_ts.clone())))\n",
    "    print(\"lsd:\",float(lsd(preds_sp.clone(), target_sp.clone())))\n",
    "    print(\"lsdhf:\",float(lsd(preds_sp.clone()[...,1024//2:], target_sp.clone()[...,1024//2:])))#高频LSD-HF\n",
    "    print(\"lsdlf:\",float(lsd(preds_sp.clone()[...,:1024//2], target_sp.clone()[...,:1024//2])))#低频LSD-LF\n",
    "    print(\"nbpesq:\",float(nb_pesq(preds_ts.clone(),target_ts.clone())))\n",
    "    print(\"wbpesq:\",float(wb_pesq(preds_ts.clone(),target_ts.clone())))\n",
    "    print(\"mosnet:\",float(mosnet(preds, rate=fs)[\"mosnet\"]))\n",
    "    print(\"stoi:\",float(stoi(preds,target,fs_sig=fs)))\n",
    "    print(\"ssim:\",float(ssim(preds_sp.clone(),target_sp.clone())))"
   ]
  },
  {
   "cell_type": "code",
   "execution_count": 4,
   "id": "8824b7a2",
   "metadata": {},
   "outputs": [
    {
     "name": "stdout",
     "output_type": "stream",
     "text": [
      "snr: -2.2471251487731934\n",
      "psnr: 26.307268239145507\n",
      "segsnr: -1.118975835256404\n",
      "sisnr: -49.53632736206055\n",
      "sipsnr: 7.682807922363281\n",
      "sdr: 2.988051414489746\n",
      "sisdr: -49.53471374511719\n",
      "lsd: 0.963241457939148\n",
      "lsdhf: 1.0245888233184814\n",
      "lsdlf: 0.8849003911018372\n",
      "nbpesq: 2.635087490081787\n",
      "wbpesq: 2.557596206665039\n",
      "mosnet: 4.267416000366211\n",
      "stoi: 0.8256386966648248\n",
      "ssim: 0.7453450003273551\n"
     ]
    }
   ],
   "source": [
    "reference = 'p361_056_high.wav'\n",
    "predict = 'p361_056_VF.wav'\n",
    "target, _ = librosa.load(reference, sr=16000)\n",
    "preds, _ = librosa.load(predict, sr=16000)\n",
    "get_scores(target,preds)"
   ]
  },
  {
   "cell_type": "markdown",
   "id": "a0cc326b",
   "metadata": {},
   "source": [
    "## For Voice & Unvoice"
   ]
  },
  {
   "cell_type": "code",
   "execution_count": 5,
   "id": "8904abad",
   "metadata": {},
   "outputs": [],
   "source": [
    "target_V, index = librosa.effects.trim(target)\n",
    "preds_V = preds[index[0]:index[1]]\n",
    "target_U = np.append(target[:index[0]], target[index[1]:])\n",
    "preds_U = np.append(preds[:index[0]], preds[index[1]:])"
   ]
  },
  {
   "cell_type": "code",
   "execution_count": 6,
   "id": "f8b46f14",
   "metadata": {},
   "outputs": [
    {
     "name": "stdout",
     "output_type": "stream",
     "text": [
      "snr: -2.2471251487731934\n",
      "psnr: 26.307268239145507\n",
      "segsnr: -1.118975835256404\n",
      "sisnr: -49.53632736206055\n",
      "sipsnr: 7.682807922363281\n",
      "sdr: 2.988051414489746\n",
      "sisdr: -49.53471374511719\n",
      "lsd: 0.963241457939148\n",
      "lsdhf: 1.0245888233184814\n",
      "lsdlf: 0.8849003911018372\n",
      "nbpesq: 2.635087490081787\n",
      "wbpesq: 2.557596206665039\n",
      "mosnet: 4.267416000366211\n",
      "stoi: 0.8256386966648248\n",
      "ssim: 0.7453450003273551\n"
     ]
    }
   ],
   "source": [
    "get_scores(target_V,preds_V)"
   ]
  },
  {
   "cell_type": "code",
   "execution_count": 7,
   "id": "0f66d6d9",
   "metadata": {},
   "outputs": [
    {
     "data": {
      "text/plain": [
       "False"
      ]
     },
     "execution_count": 7,
     "metadata": {},
     "output_type": "execute_result"
    }
   ],
   "source": [
    "get_scores(target_U,preds_U)"
   ]
  }
 ],
 "metadata": {
  "kernelspec": {
   "display_name": "audiosr",
   "language": "python",
   "name": "audiosr"
  },
  "language_info": {
   "codemirror_mode": {
    "name": "ipython",
    "version": 3
   },
   "file_extension": ".py",
   "mimetype": "text/x-python",
   "name": "python",
   "nbconvert_exporter": "python",
   "pygments_lexer": "ipython3",
   "version": "3.8.13"
  }
 },
 "nbformat": 4,
 "nbformat_minor": 5
}
